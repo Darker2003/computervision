{
  "cells": [
    {
      "cell_type": "markdown",
      "metadata": {
        "id": "vFJ1ebMJ7fOQ"
      },
      "source": [
        "## Install some package"
      ]
    },
    {
      "cell_type": "code",
      "execution_count": 1,
      "metadata": {
        "colab": {
          "base_uri": "https://localhost:8080/"
        },
        "id": "bJT3Lw9F7esg",
        "outputId": "5585eb90-da65-4939-b84a-1f7648427843"
      },
      "outputs": [],
      "source": [
        "%%capture\n",
        "# !pip install efficientnet_pytorch"
      ]
    },
    {
      "cell_type": "code",
      "execution_count": 2,
      "metadata": {
        "id": "nzqAzuckshLm"
      },
      "outputs": [],
      "source": [
        "import torch\n",
        "import torchvision\n",
        "from torchvision import transforms\n",
        "from torch.utils.data import DataLoader\n",
        "from torchvision import models\n",
        "from efficientnet_pytorch import EfficientNet\n",
        "import torch.nn as nn\n",
        "from sklearn.metrics import confusion_matrix, f1_score\n",
        "import seaborn as sns\n",
        "import matplotlib.pyplot as plt\n",
        "from tqdm import tqdm\n",
        "import torch.optim as optim\n"
      ]
    },
    {
      "cell_type": "markdown",
      "metadata": {
        "id": "zOVx6NXQsink"
      },
      "source": [
        "## Function Dataloader"
      ]
    },
    {
      "cell_type": "code",
      "execution_count": 3,
      "metadata": {
        "id": "fD6xTyDX7A9C"
      },
      "outputs": [],
      "source": [
        "class DataPreparation:\n",
        "    def __init__(self, cfg):\n",
        "        self.train_dir = cfg.train_dir\n",
        "        self.test_dir = cfg.test_dir\n",
        "        self.batch_size = cfg.batch_size\n",
        "        self.device = torch.device(\"cuda\" if torch.cuda.is_available() else \"cpu\")\n",
        "        self.num_classes = None\n",
        "        self.classes_name = None\n",
        "        self.classes2idx = None\n",
        "        self.TRAINLOADER = None\n",
        "        self.TESTLOADER = None\n",
        "\n",
        "        self.prepare_transforms()\n",
        "        self.load_data()\n",
        "        self.create_data_loaders()\n",
        "\n",
        "    def prepare_transforms(self):\n",
        "        train_transforms = transforms.Compose([\n",
        "            transforms.Resize((224, 224)),\n",
        "            transforms.ToTensor(),\n",
        "            transforms.Normalize(mean=[0.485, 0.456, 0.406], std=[0.229, 0.224, 0.225]),\n",
        "        ])\n",
        "\n",
        "        test_transforms = transforms.Compose([\n",
        "            transforms.Resize((224, 224)),\n",
        "            transforms.ToTensor(),\n",
        "            transforms.Normalize(mean=[0.485, 0.456, 0.406], std=[0.229, 0.224, 0.225]),\n",
        "        ])\n",
        "\n",
        "        self.train_transforms = train_transforms\n",
        "        self.test_transforms = test_transforms\n",
        "\n",
        "    def load_data(self):\n",
        "        train_data = torchvision.datasets.ImageFolder(root=self.train_dir, transform=self.train_transforms)\n",
        "        test_data = torchvision.datasets.ImageFolder(root=self.test_dir, transform=self.test_transforms)\n",
        "\n",
        "        self.num_classes = len(train_data.classes)\n",
        "        self.classes_name = train_data.classes\n",
        "        self.classes2idx = train_data.class_to_idx\n",
        "\n",
        "        print(f\"Số lượng lớp: {self.num_classes}\")\n",
        "        print(f\"Tên lớp: {self.classes_name}\")\n",
        "        print(f\"Ánh xạ từ tên lớp sang chỉ số: {self.classes2idx}\")\n",
        "        print(\"Number of train: \", len(train_data))\n",
        "        print(\"Number of test: \", len(test_data))\n",
        "\n",
        "        self.train_data = train_data\n",
        "        self.test_data = test_data\n",
        "\n",
        "    def create_data_loaders(self):\n",
        "        self.trainloader = DataLoader(self.train_data, batch_size=self.batch_size, shuffle=True)\n",
        "        self.testloader = DataLoader(self.test_data, batch_size=self.batch_size, shuffle=False)"
      ]
    },
    {
      "cell_type": "markdown",
      "metadata": {
        "id": "2ua3yDNQsl5-"
      },
      "source": [
        "## Function Model"
      ]
    },
    {
      "cell_type": "code",
      "execution_count": 4,
      "metadata": {
        "id": "J-q56Ekxsqan"
      },
      "outputs": [],
      "source": [
        "def resnet18_frozen(num_classes):\n",
        "    # Tải pre-trained ResNet-18\n",
        "    model = models.resnet18(pretrained=True)\n",
        "    model.fc = nn.Linear(model.fc.in_features, num_classes)\n",
        "    for name, param in model.named_parameters():\n",
        "        if 'layer4' in name or 'fc' in name:\n",
        "            param.requires_grad = True\n",
        "        else:\n",
        "            param.requires_grad = False\n",
        "\n",
        "    return model\n",
        "\n",
        "def mobilenetv3_frozen(num_classes):\n",
        "    # Tải pre-trained MobileNetV3\n",
        "    model = models.mobilenet_v3_small(pretrained=True)\n",
        "    model.classifier[3] = nn.Linear(model.classifier[3].in_features, num_classes)\n",
        "    for name, param in model.named_parameters():\n",
        "        if 'classifier' in name :\n",
        "            param.requires_grad = True\n",
        "        else:\n",
        "            param.requires_grad = False\n",
        "\n",
        "    return model\n",
        "\n"
      ]
    },
    {
      "cell_type": "markdown",
      "metadata": {
        "id": "WWsvbRxjsl3-"
      },
      "source": [
        "## Evaluation function and visualize"
      ]
    },
    {
      "cell_type": "code",
      "execution_count": 5,
      "metadata": {
        "id": "joQQv9R3tLAD"
      },
      "outputs": [],
      "source": [
        "def evaluate_model(model, test_dataloader, device, class_names):\n",
        "    # Set the model in evaluation mode\n",
        "    model.eval()\n",
        "\n",
        "    all_predictions = []\n",
        "    all_true_labels = []\n",
        "\n",
        "    with torch.no_grad():\n",
        "        for data in tqdm(test_dataloader, desc='eval'):\n",
        "            inputs, labels = data\n",
        "            inputs, labels = inputs.to(device), labels.to(device)\n",
        "            outputs = model(inputs)\n",
        "            _, predicted = torch.max(outputs.data, 1)\n",
        "            all_predictions.extend(predicted.cpu().tolist())\n",
        "            all_true_labels.extend(labels.cpu().tolist())\n",
        "\n",
        "    # Compute confusion matrix\n",
        "    cm = confusion_matrix(all_true_labels, all_predictions)\n",
        "\n",
        "    # Plot confusion matrix using Seaborn\n",
        "    plt.figure(figsize=(10, 7))\n",
        "    sns.heatmap(cm, annot=True, fmt=\"d\", cmap=\"Blues\", xticklabels=class_names, yticklabels=class_names)\n",
        "    plt.xlabel('Predicted labels')\n",
        "    plt.ylabel('True labels')\n",
        "    plt.title('Confusion Matrix')\n",
        "    plt.show()\n",
        "    return all_predictions, all_true_labels\n",
        "\n",
        "def visualize(trainer):\n",
        "    test_F1 = trainer.test_F1\n",
        "    train_F1 = trainer.train_F1\n",
        "    loss_test = trainer.loss_test\n",
        "    loss_train = trainer.loss_train\n",
        "\n",
        "    # Plotting the metrics\n",
        "    plt.figure(figsize=(12, 6))\n",
        "\n",
        "    plt.subplot(1, 2, 1)\n",
        "    plt.plot(loss_train, label='Train Loss')\n",
        "    plt.plot(loss_test, label='Test Loss')\n",
        "    plt.title('Loss over epochs')\n",
        "    plt.xlabel('Epochs')\n",
        "    plt.ylabel('Loss')\n",
        "    plt.legend()\n",
        "\n",
        "    plt.subplot(1, 2, 2)\n",
        "    plt.plot(train_F1, label='Train F1 Score')\n",
        "    plt.plot(test_F1, label='Test F1 Score')\n",
        "    plt.title('F1 Score over epochs')\n",
        "    plt.xlabel('Epochs')\n",
        "    plt.ylabel('F1 Score')\n",
        "    plt.legend()\n",
        "\n",
        "    plt.tight_layout()\n",
        "    plt.show()"
      ]
    },
    {
      "cell_type": "markdown",
      "metadata": {
        "id": "E712_y80sl1y"
      },
      "source": [
        "## Function training\n"
      ]
    },
    {
      "cell_type": "code",
      "execution_count": 6,
      "metadata": {
        "id": "QjKqfx6NtUaG"
      },
      "outputs": [],
      "source": [
        "def load_best_model(model, load_path):\n",
        "        model.load_state_dict(torch.load(load_path))\n",
        "        return model\n",
        "\n",
        "class Trainer:\n",
        "    def __init__(self, model, train_loader, test_loader, cfg):\n",
        "        self.model = model\n",
        "        self.train_loader = train_loader\n",
        "        self.test_loader = test_loader\n",
        "        self.patience = cfg.patience\n",
        "        self.max_epochs = cfg.max_epochs\n",
        "        self.device = cfg.device\n",
        "\n",
        "        self.train_F1 = []\n",
        "        self.test_F1 = []\n",
        "        self.loss_train = []\n",
        "        self.loss_test = []\n",
        "\n",
        "    def train_one_epoch(self, optimizer, scheduler, criterion):\n",
        "        self.model.train()\n",
        "        total_loss = 0.0\n",
        "        y_true = []\n",
        "        y_pred = []\n",
        "\n",
        "        for batch_idx, (data, target) in enumerate(self.train_loader):\n",
        "            data, target = data.to(self.device), target.to(self.device)\n",
        "            optimizer.zero_grad()\n",
        "            output = self.model(data)\n",
        "            loss = criterion(output, target)\n",
        "            loss.backward()\n",
        "            optimizer.step()\n",
        "            total_loss += loss.item()\n",
        "\n",
        "            _, predicted = torch.max(output, 1)\n",
        "            y_true.extend(target.cpu().numpy())\n",
        "            y_pred.extend(predicted.cpu().numpy())\n",
        "        if scheduler is not None:\n",
        "            scheduler.step()\n",
        "        f1 = f1_score(y_true, y_pred, average='micro')\n",
        "        self.train_F1.append(f1)\n",
        "        self.loss_train.append(total_loss / len(self.train_loader))\n",
        "        return self.model\n",
        "\n",
        "    def test_one_epoch(self, criterion):\n",
        "        self.model.eval()\n",
        "        total_loss = 0.0\n",
        "        y_true = []\n",
        "        y_pred = []\n",
        "\n",
        "        with torch.no_grad():\n",
        "            for data, target in self.test_loader:\n",
        "                data, target = data.to(self.device), target.to(self.device)\n",
        "                output = self.model(data)\n",
        "                loss = criterion(output, target)\n",
        "                total_loss += loss.item()\n",
        "\n",
        "                _, predicted = torch.max(output, 1)\n",
        "                y_true.extend(target.cpu().numpy())\n",
        "                y_pred.extend(predicted.cpu().numpy())\n",
        "\n",
        "        f1 = f1_score(y_true, y_pred, average='micro')\n",
        "        self.test_F1.append(f1)\n",
        "        self.loss_test.append(total_loss / len(self.test_loader))\n",
        "\n",
        "    def train(self, optimizer, scheduler, criterion, save_path):\n",
        "        self.model.to(self.device)\n",
        "        early_stopping_counter = 0\n",
        "        best_f1 = -float('inf')\n",
        "        model_best_f1 = None\n",
        "        for epoch in tqdm(range(self.max_epochs), desc='epochs'):\n",
        "            model = self.train_one_epoch(optimizer, scheduler, criterion)\n",
        "            self.test_one_epoch(criterion)\n",
        "\n",
        "            print(f\"Epoch {epoch+1}/{self.max_epochs} - Train Loss: {self.loss_train[-1]:.4f} - Test Loss: {self.loss_test[-1]:.4f} - Train F1: {self.train_F1[-1]:.4f} - Test F1: {self.test_F1[-1]:.4f}\")\n",
        "\n",
        "            if self.test_F1[-1] > best_f1:\n",
        "                best_f1 = self.test_F1[-1]\n",
        "                early_stopping_counter = 0\n",
        "                # Save the best model state dictionary\n",
        "                torch.save(model.state_dict(), save_path)\n",
        "\n",
        "            else:\n",
        "                early_stopping_counter += 1\n",
        "\n",
        "            if early_stopping_counter >= self.patience:\n",
        "                print(\"Early stopping triggered.\")\n",
        "                break\n",
        "\n",
        "        print(\"Training finished.\")\n",
        "        model_best_f1 = load_best_model(model, save_path)\n",
        "        return model_best_f1\n"
      ]
    },
    {
      "cell_type": "markdown",
      "metadata": {
        "id": "UprtU98FtlLk"
      },
      "source": [
        "## Tuning model"
      ]
    },
    {
      "cell_type": "code",
      "execution_count": 7,
      "metadata": {
        "id": "qdZ0RKfdtf_Q"
      },
      "outputs": [],
      "source": [
        "import os\n",
        "PATH_DATA = '/home/tari/Documents/BackUp_AI_Class/day04/exercise/dataset'"
      ]
    },
    {
      "cell_type": "code",
      "execution_count": 8,
      "metadata": {
        "id": "qlqyujUc7vKk"
      },
      "outputs": [],
      "source": [
        "class Config:\n",
        "    def __init__(self):\n",
        "        self.device = 'cuda' if torch.cuda.is_available() else 'cpu'  # Thiết bị sử dụng (cuda hoặc cpu)\n",
        "        self.train_dir = os.path.join(PATH_DATA, 'train')  # Đường dẫn đến dữ liệu huấn luyện\n",
        "        self.test_dir = os.path.join(PATH_DATA, 'test')\n",
        "        self.num_classes = None\n",
        "        self.class_names = None\n",
        "        self.batch_size = 64\n",
        "        self.max_epochs = 10\n",
        "        self.patience = 3\n",
        "        self.lr = 0.001\n",
        "        self.beta1 = 0.95\n",
        "        self.beta2 = 0.993\n",
        "        self.model_name = 'mobilenet'"
      ]
    },
    {
      "cell_type": "code",
      "execution_count": 9,
      "metadata": {
        "colab": {
          "base_uri": "https://localhost:8080/",
          "height": 122
        },
        "id": "siGZbWhk7SkR",
        "outputId": "623acb92-dbf6-4342-9b0b-7fa83e094d13"
      },
      "outputs": [
        {
          "name": "stdout",
          "output_type": "stream",
          "text": [
            "Số lượng lớp: 6\n",
            "Tên lớp: ['buildings', 'forest', 'glacier', 'mountain', 'sea', 'street']\n",
            "Ánh xạ từ tên lớp sang chỉ số: {'buildings': 0, 'forest': 1, 'glacier': 2, 'mountain': 3, 'sea': 4, 'street': 5}\n",
            "Number of train:  14034\n",
            "Number of test:  3000\n"
          ]
        },
        {
          "data": {
            "text/plain": [
              "'cuda'"
            ]
          },
          "execution_count": 9,
          "metadata": {},
          "output_type": "execute_result"
        }
      ],
      "source": [
        "# Loss\n",
        "criterion = nn.CrossEntropyLoss()\n",
        "# Config\n",
        "cfg = Config()\n",
        "data_preparation = DataPreparation(\n",
        "    cfg = cfg\n",
        "    )\n",
        "\n",
        "cfg.device"
      ]
    },
    {
      "cell_type": "code",
      "execution_count": 10,
      "metadata": {
        "colab": {
          "base_uri": "https://localhost:8080/"
        },
        "id": "_JIA_M5B8FvR",
        "outputId": "d49ba5ca-76bd-4c7b-9b70-f8d4290d4b3e"
      },
      "outputs": [
        {
          "name": "stdout",
          "output_type": "stream",
          "text": [
            "Number iteration:  3.4375\n"
          ]
        }
      ],
      "source": [
        "# Create dataloader\n",
        "data_preparation.create_data_loaders()\n",
        "trainloader = data_preparation.trainloader\n",
        "testloader = data_preparation.testloader\n",
        "cfg.num_classes = data_preparation.num_classes\n",
        "cfg.class_names = data_preparation.classes_name\n",
        "print(\"Number iteration: \", len(trainloader)/cfg.batch_size)"
      ]
    },
    {
      "cell_type": "code",
      "execution_count": 11,
      "metadata": {
        "colab": {
          "base_uri": "https://localhost:8080/"
        },
        "id": "Qu-q6xQf8MD_",
        "outputId": "274b9f3c-7f18-4401-9bbd-bc81fc38157b"
      },
      "outputs": [
        {
          "name": "stderr",
          "output_type": "stream",
          "text": [
            "/home/tari/.virtualenvs/ner/lib/python3.10/site-packages/torchvision/models/_utils.py:208: UserWarning: The parameter 'pretrained' is deprecated since 0.13 and may be removed in the future, please use 'weights' instead.\n",
            "  warnings.warn(\n",
            "/home/tari/.virtualenvs/ner/lib/python3.10/site-packages/torchvision/models/_utils.py:223: UserWarning: Arguments other than a weight enum or `None` for 'weights' are deprecated since 0.13 and may be removed in the future. The current behavior is equivalent to passing `weights=MobileNet_V3_Small_Weights.IMAGENET1K_V1`. You can also use `weights=MobileNet_V3_Small_Weights.DEFAULT` to get the most up-to-date weights.\n",
            "  warnings.warn(msg)\n"
          ]
        }
      ],
      "source": [
        "# Create Model\n",
        "if cfg.model_name == 'resnet':\n",
        "    model = resnet18_frozen(cfg.num_classes)\n",
        "elif cfg.model_name == 'mobilenet':\n",
        "    model = mobilenetv3_frozen(cfg.num_classes)\n"
      ]
    },
    {
      "cell_type": "code",
      "execution_count": 12,
      "metadata": {},
      "outputs": [],
      "source": [
        "from torchsummary import summary"
      ]
    },
    {
      "cell_type": "code",
      "execution_count": 13,
      "metadata": {},
      "outputs": [
        {
          "name": "stdout",
          "output_type": "stream",
          "text": [
            "----------------------------------------------------------------\n",
            "        Layer (type)               Output Shape         Param #\n",
            "================================================================\n",
            "            Conv2d-1         [-1, 16, 112, 112]             432\n",
            "       BatchNorm2d-2         [-1, 16, 112, 112]              32\n",
            "         Hardswish-3         [-1, 16, 112, 112]               0\n",
            "            Conv2d-4           [-1, 16, 56, 56]             144\n",
            "       BatchNorm2d-5           [-1, 16, 56, 56]              32\n",
            "              ReLU-6           [-1, 16, 56, 56]               0\n",
            " AdaptiveAvgPool2d-7             [-1, 16, 1, 1]               0\n",
            "            Conv2d-8              [-1, 8, 1, 1]             136\n",
            "              ReLU-9              [-1, 8, 1, 1]               0\n",
            "           Conv2d-10             [-1, 16, 1, 1]             144\n",
            "      Hardsigmoid-11             [-1, 16, 1, 1]               0\n",
            "SqueezeExcitation-12           [-1, 16, 56, 56]               0\n",
            "           Conv2d-13           [-1, 16, 56, 56]             256\n",
            "      BatchNorm2d-14           [-1, 16, 56, 56]              32\n",
            " InvertedResidual-15           [-1, 16, 56, 56]               0\n",
            "           Conv2d-16           [-1, 72, 56, 56]           1,152\n",
            "      BatchNorm2d-17           [-1, 72, 56, 56]             144\n",
            "             ReLU-18           [-1, 72, 56, 56]               0\n",
            "           Conv2d-19           [-1, 72, 28, 28]             648\n",
            "      BatchNorm2d-20           [-1, 72, 28, 28]             144\n",
            "             ReLU-21           [-1, 72, 28, 28]               0\n",
            "           Conv2d-22           [-1, 24, 28, 28]           1,728\n",
            "      BatchNorm2d-23           [-1, 24, 28, 28]              48\n",
            " InvertedResidual-24           [-1, 24, 28, 28]               0\n",
            "           Conv2d-25           [-1, 88, 28, 28]           2,112\n",
            "      BatchNorm2d-26           [-1, 88, 28, 28]             176\n",
            "             ReLU-27           [-1, 88, 28, 28]               0\n",
            "           Conv2d-28           [-1, 88, 28, 28]             792\n",
            "      BatchNorm2d-29           [-1, 88, 28, 28]             176\n",
            "             ReLU-30           [-1, 88, 28, 28]               0\n",
            "           Conv2d-31           [-1, 24, 28, 28]           2,112\n",
            "      BatchNorm2d-32           [-1, 24, 28, 28]              48\n",
            " InvertedResidual-33           [-1, 24, 28, 28]               0\n",
            "           Conv2d-34           [-1, 96, 28, 28]           2,304\n",
            "      BatchNorm2d-35           [-1, 96, 28, 28]             192\n",
            "        Hardswish-36           [-1, 96, 28, 28]               0\n",
            "           Conv2d-37           [-1, 96, 14, 14]           2,400\n",
            "      BatchNorm2d-38           [-1, 96, 14, 14]             192\n",
            "        Hardswish-39           [-1, 96, 14, 14]               0\n",
            "AdaptiveAvgPool2d-40             [-1, 96, 1, 1]               0\n",
            "           Conv2d-41             [-1, 24, 1, 1]           2,328\n",
            "             ReLU-42             [-1, 24, 1, 1]               0\n",
            "           Conv2d-43             [-1, 96, 1, 1]           2,400\n",
            "      Hardsigmoid-44             [-1, 96, 1, 1]               0\n",
            "SqueezeExcitation-45           [-1, 96, 14, 14]               0\n",
            "           Conv2d-46           [-1, 40, 14, 14]           3,840\n",
            "      BatchNorm2d-47           [-1, 40, 14, 14]              80\n",
            " InvertedResidual-48           [-1, 40, 14, 14]               0\n",
            "           Conv2d-49          [-1, 240, 14, 14]           9,600\n",
            "      BatchNorm2d-50          [-1, 240, 14, 14]             480\n",
            "        Hardswish-51          [-1, 240, 14, 14]               0\n",
            "           Conv2d-52          [-1, 240, 14, 14]           6,000\n",
            "      BatchNorm2d-53          [-1, 240, 14, 14]             480\n",
            "        Hardswish-54          [-1, 240, 14, 14]               0\n",
            "AdaptiveAvgPool2d-55            [-1, 240, 1, 1]               0\n",
            "           Conv2d-56             [-1, 64, 1, 1]          15,424\n",
            "             ReLU-57             [-1, 64, 1, 1]               0\n",
            "           Conv2d-58            [-1, 240, 1, 1]          15,600\n",
            "      Hardsigmoid-59            [-1, 240, 1, 1]               0\n",
            "SqueezeExcitation-60          [-1, 240, 14, 14]               0\n",
            "           Conv2d-61           [-1, 40, 14, 14]           9,600\n",
            "      BatchNorm2d-62           [-1, 40, 14, 14]              80\n",
            " InvertedResidual-63           [-1, 40, 14, 14]               0\n",
            "           Conv2d-64          [-1, 240, 14, 14]           9,600\n",
            "      BatchNorm2d-65          [-1, 240, 14, 14]             480\n",
            "        Hardswish-66          [-1, 240, 14, 14]               0\n",
            "           Conv2d-67          [-1, 240, 14, 14]           6,000\n",
            "      BatchNorm2d-68          [-1, 240, 14, 14]             480\n",
            "        Hardswish-69          [-1, 240, 14, 14]               0\n",
            "AdaptiveAvgPool2d-70            [-1, 240, 1, 1]               0\n",
            "           Conv2d-71             [-1, 64, 1, 1]          15,424\n",
            "             ReLU-72             [-1, 64, 1, 1]               0\n",
            "           Conv2d-73            [-1, 240, 1, 1]          15,600\n",
            "      Hardsigmoid-74            [-1, 240, 1, 1]               0\n",
            "SqueezeExcitation-75          [-1, 240, 14, 14]               0\n",
            "           Conv2d-76           [-1, 40, 14, 14]           9,600\n",
            "      BatchNorm2d-77           [-1, 40, 14, 14]              80\n",
            " InvertedResidual-78           [-1, 40, 14, 14]               0\n",
            "           Conv2d-79          [-1, 120, 14, 14]           4,800\n",
            "      BatchNorm2d-80          [-1, 120, 14, 14]             240\n",
            "        Hardswish-81          [-1, 120, 14, 14]               0\n",
            "           Conv2d-82          [-1, 120, 14, 14]           3,000\n",
            "      BatchNorm2d-83          [-1, 120, 14, 14]             240\n",
            "        Hardswish-84          [-1, 120, 14, 14]               0\n",
            "AdaptiveAvgPool2d-85            [-1, 120, 1, 1]               0\n",
            "           Conv2d-86             [-1, 32, 1, 1]           3,872\n",
            "             ReLU-87             [-1, 32, 1, 1]               0\n",
            "           Conv2d-88            [-1, 120, 1, 1]           3,960\n",
            "      Hardsigmoid-89            [-1, 120, 1, 1]               0\n",
            "SqueezeExcitation-90          [-1, 120, 14, 14]               0\n",
            "           Conv2d-91           [-1, 48, 14, 14]           5,760\n",
            "      BatchNorm2d-92           [-1, 48, 14, 14]              96\n",
            " InvertedResidual-93           [-1, 48, 14, 14]               0\n",
            "           Conv2d-94          [-1, 144, 14, 14]           6,912\n",
            "      BatchNorm2d-95          [-1, 144, 14, 14]             288\n",
            "        Hardswish-96          [-1, 144, 14, 14]               0\n",
            "           Conv2d-97          [-1, 144, 14, 14]           3,600\n",
            "      BatchNorm2d-98          [-1, 144, 14, 14]             288\n",
            "        Hardswish-99          [-1, 144, 14, 14]               0\n",
            "AdaptiveAvgPool2d-100            [-1, 144, 1, 1]               0\n",
            "          Conv2d-101             [-1, 40, 1, 1]           5,800\n",
            "            ReLU-102             [-1, 40, 1, 1]               0\n",
            "          Conv2d-103            [-1, 144, 1, 1]           5,904\n",
            "     Hardsigmoid-104            [-1, 144, 1, 1]               0\n",
            "SqueezeExcitation-105          [-1, 144, 14, 14]               0\n",
            "          Conv2d-106           [-1, 48, 14, 14]           6,912\n",
            "     BatchNorm2d-107           [-1, 48, 14, 14]              96\n",
            "InvertedResidual-108           [-1, 48, 14, 14]               0\n",
            "          Conv2d-109          [-1, 288, 14, 14]          13,824\n",
            "     BatchNorm2d-110          [-1, 288, 14, 14]             576\n",
            "       Hardswish-111          [-1, 288, 14, 14]               0\n",
            "          Conv2d-112            [-1, 288, 7, 7]           7,200\n",
            "     BatchNorm2d-113            [-1, 288, 7, 7]             576\n",
            "       Hardswish-114            [-1, 288, 7, 7]               0\n",
            "AdaptiveAvgPool2d-115            [-1, 288, 1, 1]               0\n",
            "          Conv2d-116             [-1, 72, 1, 1]          20,808\n",
            "            ReLU-117             [-1, 72, 1, 1]               0\n",
            "          Conv2d-118            [-1, 288, 1, 1]          21,024\n",
            "     Hardsigmoid-119            [-1, 288, 1, 1]               0\n",
            "SqueezeExcitation-120            [-1, 288, 7, 7]               0\n",
            "          Conv2d-121             [-1, 96, 7, 7]          27,648\n",
            "     BatchNorm2d-122             [-1, 96, 7, 7]             192\n",
            "InvertedResidual-123             [-1, 96, 7, 7]               0\n",
            "          Conv2d-124            [-1, 576, 7, 7]          55,296\n",
            "     BatchNorm2d-125            [-1, 576, 7, 7]           1,152\n",
            "       Hardswish-126            [-1, 576, 7, 7]               0\n",
            "          Conv2d-127            [-1, 576, 7, 7]          14,400\n",
            "     BatchNorm2d-128            [-1, 576, 7, 7]           1,152\n",
            "       Hardswish-129            [-1, 576, 7, 7]               0\n",
            "AdaptiveAvgPool2d-130            [-1, 576, 1, 1]               0\n",
            "          Conv2d-131            [-1, 144, 1, 1]          83,088\n",
            "            ReLU-132            [-1, 144, 1, 1]               0\n",
            "          Conv2d-133            [-1, 576, 1, 1]          83,520\n",
            "     Hardsigmoid-134            [-1, 576, 1, 1]               0\n",
            "SqueezeExcitation-135            [-1, 576, 7, 7]               0\n",
            "          Conv2d-136             [-1, 96, 7, 7]          55,296\n",
            "     BatchNorm2d-137             [-1, 96, 7, 7]             192\n",
            "InvertedResidual-138             [-1, 96, 7, 7]               0\n",
            "          Conv2d-139            [-1, 576, 7, 7]          55,296\n",
            "     BatchNorm2d-140            [-1, 576, 7, 7]           1,152\n",
            "       Hardswish-141            [-1, 576, 7, 7]               0\n",
            "          Conv2d-142            [-1, 576, 7, 7]          14,400\n",
            "     BatchNorm2d-143            [-1, 576, 7, 7]           1,152\n",
            "       Hardswish-144            [-1, 576, 7, 7]               0\n",
            "AdaptiveAvgPool2d-145            [-1, 576, 1, 1]               0\n",
            "          Conv2d-146            [-1, 144, 1, 1]          83,088\n",
            "            ReLU-147            [-1, 144, 1, 1]               0\n",
            "          Conv2d-148            [-1, 576, 1, 1]          83,520\n",
            "     Hardsigmoid-149            [-1, 576, 1, 1]               0\n",
            "SqueezeExcitation-150            [-1, 576, 7, 7]               0\n",
            "          Conv2d-151             [-1, 96, 7, 7]          55,296\n",
            "     BatchNorm2d-152             [-1, 96, 7, 7]             192\n",
            "InvertedResidual-153             [-1, 96, 7, 7]               0\n",
            "          Conv2d-154            [-1, 576, 7, 7]          55,296\n",
            "     BatchNorm2d-155            [-1, 576, 7, 7]           1,152\n",
            "       Hardswish-156            [-1, 576, 7, 7]               0\n",
            "AdaptiveAvgPool2d-157            [-1, 576, 1, 1]               0\n",
            "          Linear-158                 [-1, 1024]         590,848\n",
            "       Hardswish-159                 [-1, 1024]               0\n",
            "         Dropout-160                 [-1, 1024]               0\n",
            "          Linear-161                    [-1, 6]           6,150\n",
            "================================================================\n",
            "Total params: 1,524,006\n",
            "Trainable params: 596,998\n",
            "Non-trainable params: 927,008\n",
            "----------------------------------------------------------------\n",
            "Input size (MB): 0.57\n",
            "Forward/backward pass size (MB): 34.60\n",
            "Params size (MB): 5.81\n",
            "Estimated Total Size (MB): 40.99\n",
            "----------------------------------------------------------------\n"
          ]
        }
      ],
      "source": [
        "summary(model.cuda(), (3, 224, 224))"
      ]
    },
    {
      "cell_type": "code",
      "execution_count": 14,
      "metadata": {
        "id": "FJcNYKLD8Nuo"
      },
      "outputs": [],
      "source": [
        "# Create Trainer\n",
        "trainer = Trainer(\n",
        "    model = model,\n",
        "    train_loader=trainloader,\n",
        "    test_loader=testloader,\n",
        "    cfg=cfg\n",
        ")"
      ]
    },
    {
      "cell_type": "code",
      "execution_count": 15,
      "metadata": {
        "id": "i850I76l8QkU"
      },
      "outputs": [],
      "source": [
        "# Optimizer\n",
        "optimizer = optim.Adam(model.parameters(), lr=cfg.lr, betas=(cfg.beta1, cfg.beta2))\n"
      ]
    },
    {
      "cell_type": "code",
      "execution_count": 16,
      "metadata": {
        "colab": {
          "base_uri": "https://localhost:8080/",
          "height": 598
        },
        "id": "K3j5rIf88XEN",
        "outputId": "b03b88cb-0797-455a-83e9-db9ba33c571d"
      },
      "outputs": [
        {
          "name": "stderr",
          "output_type": "stream",
          "text": [
            "epochs:  10%|█         | 1/10 [00:34<05:14, 34.92s/it]"
          ]
        },
        {
          "name": "stdout",
          "output_type": "stream",
          "text": [
            "Epoch 1/10 - Train Loss: 0.4006 - Test Loss: 0.2854 - Train F1: 0.8558 - Test F1: 0.8993\n"
          ]
        },
        {
          "name": "stderr",
          "output_type": "stream",
          "text": [
            "epochs:  20%|██        | 2/10 [01:04<04:16, 32.05s/it]"
          ]
        },
        {
          "name": "stdout",
          "output_type": "stream",
          "text": [
            "Epoch 2/10 - Train Loss: 0.2872 - Test Loss: 0.2773 - Train F1: 0.8950 - Test F1: 0.8990\n"
          ]
        },
        {
          "name": "stderr",
          "output_type": "stream",
          "text": [
            "epochs:  30%|███       | 3/10 [01:34<03:37, 31.13s/it]"
          ]
        },
        {
          "name": "stdout",
          "output_type": "stream",
          "text": [
            "Epoch 3/10 - Train Loss: 0.2418 - Test Loss: 0.2623 - Train F1: 0.9109 - Test F1: 0.9077\n"
          ]
        },
        {
          "name": "stderr",
          "output_type": "stream",
          "text": [
            "epochs:  40%|████      | 4/10 [02:04<03:03, 30.54s/it]"
          ]
        },
        {
          "name": "stdout",
          "output_type": "stream",
          "text": [
            "Epoch 4/10 - Train Loss: 0.2078 - Test Loss: 0.3064 - Train F1: 0.9265 - Test F1: 0.8890\n"
          ]
        },
        {
          "name": "stderr",
          "output_type": "stream",
          "text": [
            "epochs:  50%|█████     | 5/10 [02:34<02:31, 30.35s/it]"
          ]
        },
        {
          "name": "stdout",
          "output_type": "stream",
          "text": [
            "Epoch 5/10 - Train Loss: 0.1821 - Test Loss: 0.2905 - Train F1: 0.9320 - Test F1: 0.8990\n"
          ]
        },
        {
          "name": "stderr",
          "output_type": "stream",
          "text": [
            "epochs:  50%|█████     | 5/10 [03:04<03:04, 36.84s/it]"
          ]
        },
        {
          "name": "stdout",
          "output_type": "stream",
          "text": [
            "Epoch 6/10 - Train Loss: 0.1554 - Test Loss: 0.2728 - Train F1: 0.9411 - Test F1: 0.9013\n",
            "Early stopping triggered.\n",
            "Training finished.\n"
          ]
        },
        {
          "name": "stderr",
          "output_type": "stream",
          "text": [
            "\n"
          ]
        }
      ],
      "source": [
        "# Training\n",
        "best_model = trainer.train(\n",
        "    optimizer=optimizer,\n",
        "    scheduler=None,\n",
        "    criterion=criterion,\n",
        "    save_path='best_f1.pt'\n",
        ")"
      ]
    },
    {
      "cell_type": "code",
      "execution_count": 17,
      "metadata": {
        "id": "f4dxS3Wh8Yyv"
      },
      "outputs": [
        {
          "name": "stderr",
          "output_type": "stream",
          "text": [
            "eval: 100%|██████████| 47/47 [00:05<00:00,  8.02it/s]\n"
          ]
        },
        {
          "data": {
            "image/png": "[encoded data removed]",
            "text/plain": [
              "<Figure size 1000x700 with 2 Axes>"
            ]
          },
          "metadata": {},
          "output_type": "display_data"
        },
        {
          "name": "stdout",
          "output_type": "stream",
          "text": [
            "0.9076230950838632\n"
          ]
        }
      ],
      "source": [
        "all_predictions, all_true_labels = evaluate_model(\n",
        "    model=best_model,\n",
        "    test_dataloader = testloader,\n",
        "    device = cfg.device,\n",
        "    class_names = data_preparation.classes_name\n",
        ")\n",
        "f1 = f1_score(all_true_labels, all_predictions, average='weighted')\n",
        "print(f1)"
      ]
    },
    {
      "cell_type": "markdown",
      "metadata": {},
      "source": [
        "## Check model"
      ]
    },
    {
      "cell_type": "code",
      "execution_count": 18,
      "metadata": {},
      "outputs": [
        {
          "name": "stderr",
          "output_type": "stream",
          "text": [
            "/home/tari/.virtualenvs/ner/lib/python3.10/site-packages/torchvision/models/_utils.py:208: UserWarning: The parameter 'pretrained' is deprecated since 0.13 and may be removed in the future, please use 'weights' instead.\n",
            "  warnings.warn(\n",
            "/home/tari/.virtualenvs/ner/lib/python3.10/site-packages/torchvision/models/_utils.py:223: UserWarning: Arguments other than a weight enum or `None` for 'weights' are deprecated since 0.13 and may be removed in the future. The current behavior is equivalent to passing `weights=MobileNet_V3_Small_Weights.IMAGENET1K_V1`. You can also use `weights=MobileNet_V3_Small_Weights.DEFAULT` to get the most up-to-date weights.\n",
            "  warnings.warn(msg)\n"
          ]
        }
      ],
      "source": [
        "model = models.mobilenet_v3_small(pretrained=True)"
      ]
    },
    {
      "cell_type": "code",
      "execution_count": 19,
      "metadata": {},
      "outputs": [
        {
          "data": {
            "text/plain": [
              "1024"
            ]
          },
          "execution_count": 19,
          "metadata": {},
          "output_type": "execute_result"
        }
      ],
      "source": [
        "model.classifier[3].in_features"
      ]
    },
    {
      "cell_type": "code",
      "execution_count": 20,
      "metadata": {},
      "outputs": [
        {
          "name": "stdout",
          "output_type": "stream",
          "text": [
            "features.0.0.weight True\n",
            "features.0.1.weight True\n",
            "features.0.1.bias True\n",
            "features.1.block.0.0.weight True\n",
            "features.1.block.0.1.weight True\n",
            "features.1.block.0.1.bias True\n",
            "features.1.block.1.fc1.weight True\n",
            "features.1.block.1.fc1.bias True\n",
            "features.1.block.1.fc2.weight True\n",
            "features.1.block.1.fc2.bias True\n",
            "features.1.block.2.0.weight True\n",
            "features.1.block.2.1.weight True\n",
            "features.1.block.2.1.bias True\n",
            "features.2.block.0.0.weight True\n",
            "features.2.block.0.1.weight True\n",
            "features.2.block.0.1.bias True\n",
            "features.2.block.1.0.weight True\n",
            "features.2.block.1.1.weight True\n",
            "features.2.block.1.1.bias True\n",
            "features.2.block.2.0.weight True\n",
            "features.2.block.2.1.weight True\n",
            "features.2.block.2.1.bias True\n",
            "features.3.block.0.0.weight True\n",
            "features.3.block.0.1.weight True\n",
            "features.3.block.0.1.bias True\n",
            "features.3.block.1.0.weight True\n",
            "features.3.block.1.1.weight True\n",
            "features.3.block.1.1.bias True\n",
            "features.3.block.2.0.weight True\n",
            "features.3.block.2.1.weight True\n",
            "features.3.block.2.1.bias True\n",
            "features.4.block.0.0.weight True\n",
            "features.4.block.0.1.weight True\n",
            "features.4.block.0.1.bias True\n",
            "features.4.block.1.0.weight True\n",
            "features.4.block.1.1.weight True\n",
            "features.4.block.1.1.bias True\n",
            "features.4.block.2.fc1.weight True\n",
            "features.4.block.2.fc1.bias True\n",
            "features.4.block.2.fc2.weight True\n",
            "features.4.block.2.fc2.bias True\n",
            "features.4.block.3.0.weight True\n",
            "features.4.block.3.1.weight True\n",
            "features.4.block.3.1.bias True\n",
            "features.5.block.0.0.weight True\n",
            "features.5.block.0.1.weight True\n",
            "features.5.block.0.1.bias True\n",
            "features.5.block.1.0.weight True\n",
            "features.5.block.1.1.weight True\n",
            "features.5.block.1.1.bias True\n",
            "features.5.block.2.fc1.weight True\n",
            "features.5.block.2.fc1.bias True\n",
            "features.5.block.2.fc2.weight True\n",
            "features.5.block.2.fc2.bias True\n",
            "features.5.block.3.0.weight True\n",
            "features.5.block.3.1.weight True\n",
            "features.5.block.3.1.bias True\n",
            "features.6.block.0.0.weight True\n",
            "features.6.block.0.1.weight True\n",
            "features.6.block.0.1.bias True\n",
            "features.6.block.1.0.weight True\n",
            "features.6.block.1.1.weight True\n",
            "features.6.block.1.1.bias True\n",
            "features.6.block.2.fc1.weight True\n",
            "features.6.block.2.fc1.bias True\n",
            "features.6.block.2.fc2.weight True\n",
            "features.6.block.2.fc2.bias True\n",
            "features.6.block.3.0.weight True\n",
            "features.6.block.3.1.weight True\n",
            "features.6.block.3.1.bias True\n",
            "features.7.block.0.0.weight True\n",
            "features.7.block.0.1.weight True\n",
            "features.7.block.0.1.bias True\n",
            "features.7.block.1.0.weight True\n",
            "features.7.block.1.1.weight True\n",
            "features.7.block.1.1.bias True\n",
            "features.7.block.2.fc1.weight True\n",
            "features.7.block.2.fc1.bias True\n",
            "features.7.block.2.fc2.weight True\n",
            "features.7.block.2.fc2.bias True\n",
            "features.7.block.3.0.weight True\n",
            "features.7.block.3.1.weight True\n",
            "features.7.block.3.1.bias True\n",
            "features.8.block.0.0.weight True\n",
            "features.8.block.0.1.weight True\n",
            "features.8.block.0.1.bias True\n",
            "features.8.block.1.0.weight True\n",
            "features.8.block.1.1.weight True\n",
            "features.8.block.1.1.bias True\n",
            "features.8.block.2.fc1.weight True\n",
            "features.8.block.2.fc1.bias True\n",
            "features.8.block.2.fc2.weight True\n",
            "features.8.block.2.fc2.bias True\n",
            "features.8.block.3.0.weight True\n",
            "features.8.block.3.1.weight True\n",
            "features.8.block.3.1.bias True\n",
            "features.9.block.0.0.weight True\n",
            "features.9.block.0.1.weight True\n",
            "features.9.block.0.1.bias True\n",
            "features.9.block.1.0.weight True\n",
            "features.9.block.1.1.weight True\n",
            "features.9.block.1.1.bias True\n",
            "features.9.block.2.fc1.weight True\n",
            "features.9.block.2.fc1.bias True\n",
            "features.9.block.2.fc2.weight True\n",
            "features.9.block.2.fc2.bias True\n",
            "features.9.block.3.0.weight True\n",
            "features.9.block.3.1.weight True\n",
            "features.9.block.3.1.bias True\n",
            "features.10.block.0.0.weight True\n",
            "features.10.block.0.1.weight True\n",
            "features.10.block.0.1.bias True\n",
            "features.10.block.1.0.weight True\n",
            "features.10.block.1.1.weight True\n",
            "features.10.block.1.1.bias True\n",
            "features.10.block.2.fc1.weight True\n",
            "features.10.block.2.fc1.bias True\n",
            "features.10.block.2.fc2.weight True\n",
            "features.10.block.2.fc2.bias True\n",
            "features.10.block.3.0.weight True\n",
            "features.10.block.3.1.weight True\n",
            "features.10.block.3.1.bias True\n",
            "features.11.block.0.0.weight True\n",
            "features.11.block.0.1.weight True\n",
            "features.11.block.0.1.bias True\n",
            "features.11.block.1.0.weight True\n",
            "features.11.block.1.1.weight True\n",
            "features.11.block.1.1.bias True\n",
            "features.11.block.2.fc1.weight True\n",
            "features.11.block.2.fc1.bias True\n",
            "features.11.block.2.fc2.weight True\n",
            "features.11.block.2.fc2.bias True\n",
            "features.11.block.3.0.weight True\n",
            "features.11.block.3.1.weight True\n",
            "features.11.block.3.1.bias True\n",
            "features.12.0.weight True\n",
            "features.12.1.weight True\n",
            "features.12.1.bias True\n",
            "classifier.0.weight True\n",
            "classifier.0.bias True\n",
            "classifier.3.weight True\n",
            "classifier.3.bias True\n"
          ]
        }
      ],
      "source": [
        "for name, param in model.named_parameters():\n",
        "    print(name, param.requires_grad)"
      ]
    }
  ],
  "metadata": {
    "accelerator": "GPU",
    "colab": {
      "gpuType": "T4",
      "provenance": []
    },
    "kernelspec": {
      "display_name": "Python 3",
      "name": "python3"
    },
    "language_info": {
      "codemirror_mode": {
        "name": "ipython",
        "version": 3
      },
      "file_extension": ".py",
      "mimetype": "text/x-python",
      "name": "python",
      "nbconvert_exporter": "python",
      "pygments_lexer": "ipython3",
      "version": "3.10.12"
    }
  },
  "nbformat": 4,
  "nbformat_minor": 0
}
